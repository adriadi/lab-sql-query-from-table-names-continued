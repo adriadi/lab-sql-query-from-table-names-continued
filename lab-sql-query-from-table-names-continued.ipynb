{
 "cells": [
  {
   "cell_type": "markdown",
   "id": "7d930c89-4954-4e39-be5a-601c1dd89512",
   "metadata": {
    "id": "7d930c89-4954-4e39-be5a-601c1dd89512"
   },
   "source": [
    "# SQL query from table names - Continued"
   ]
  },
  {
   "cell_type": "code",
   "execution_count": 57,
   "id": "a03f026a",
   "metadata": {
    "id": "a03f026a"
   },
   "outputs": [],
   "source": [
    "from openai import OpenAI\n",
    "import os\n",
    "from dotenv import load_dotenv, find_dotenv\n",
    "_ = load_dotenv(find_dotenv())\n",
    "\n",
    "OPENAI_API_KEY  = os.getenv('OPENAI_API_KEY')"
   ]
  },
  {
   "cell_type": "markdown",
   "id": "53a05b80-88fd-42b2-ba89-763074ae74e9",
   "metadata": {
    "id": "53a05b80-88fd-42b2-ba89-763074ae74e9"
   },
   "source": [
    "## The old Prompt"
   ]
  },
  {
   "cell_type": "code",
   "execution_count": 58,
   "id": "922f8d24",
   "metadata": {
    "id": "922f8d24"
   },
   "outputs": [],
   "source": [
    "#The old prompt\n",
    "old_context = [ {'role':'system', 'content':\"\"\"\n",
    "you are a bot to assist in create SQL commands, all your answers should start with \\\n",
    "this is your SQL, and after that an SQL that can do what the user request. \\\n",
    "Your Database is composed by a SQL database with some tables. \\\n",
    "Try to maintain the SQL order simple.\n",
    "Put the SQL command in white letters with a black background, and just after \\\n",
    "a simple and concise text explaining how it works.\n",
    "If the user ask for something that can not be solved with an SQL Order \\\n",
    "just answer something nice and simple, maximum 10 words, asking him for something that \\\n",
    "can be solved with SQL.\n",
    "\"\"\"} ]\n",
    "\n",
    "old_context.append( {'role':'system', 'content':\"\"\"\n",
    "first table:\n",
    "{\n",
    "  \"tableName\": \"employees\",\n",
    "  \"fields\": [\n",
    "    {\n",
    "      \"nombre\": \"ID_usr\",\n",
    "      \"tipo\": \"int\"\n",
    "    },\n",
    "    {\n",
    "      \"nombre\": \"name\",\n",
    "      \"tipo\": \"varchar\"\n",
    "    }\n",
    "  ]\n",
    "}\n",
    "\"\"\"\n",
    "})\n",
    "\n",
    "old_context.append( {'role':'system', 'content':\"\"\"\n",
    "second table:\n",
    "{\n",
    "  \"tableName\": \"salary\",\n",
    "  \"fields\": [\n",
    "    {\n",
    "      \"nombre\": \"ID_usr\",\n",
    "      \"type\": \"int\"\n",
    "    },\n",
    "    {\n",
    "      \"name\": \"year\",\n",
    "      \"type\": \"date\"\n",
    "    },\n",
    "    {\n",
    "      \"name\": \"salary\",\n",
    "      \"type\": \"float\"\n",
    "    }\n",
    "  ]\n",
    "}\n",
    "\"\"\"\n",
    "})\n",
    "\n",
    "old_context.append( {'role':'system', 'content':\"\"\"\n",
    "third table:\n",
    "{\n",
    "  \"tablename\": \"studies\",\n",
    "  \"fields\": [\n",
    "    {\n",
    "      \"name\": \"ID\",\n",
    "      \"type\": \"int\"\n",
    "    },\n",
    "    {\n",
    "      \"name\": \"ID_usr\",\n",
    "      \"type\": \"int\"\n",
    "    },\n",
    "    {\n",
    "      \"name\": \"educational_level\",\n",
    "      \"type\": \"int\"\n",
    "    },\n",
    "    {\n",
    "      \"name\": \"Institution\",\n",
    "      \"type\": \"varchar\"\n",
    "    },\n",
    "    {\n",
    "      \"name\": \"Years\",\n",
    "      \"type\": \"date\"\n",
    "    }\n",
    "    {\n",
    "      \"name\": \"Speciality\",\n",
    "      \"type\": \"varchar\"\n",
    "    }\n",
    "  ]\n",
    "}\n",
    "\"\"\"\n",
    "})"
   ]
  },
  {
   "cell_type": "markdown",
   "id": "377acaae-7dd0-4d13-bc68-9e33741c231c",
   "metadata": {
    "id": "377acaae-7dd0-4d13-bc68-9e33741c231c"
   },
   "source": [
    "## New Prompt.\n",
    "We are going to improve it following the instructions of a Paper from the Ohaio University: [How to Prompt LLMs for Text-to-SQL: A Study in Zero-shot, Single-domain, and Cross-domain Settings](https://arxiv.org/abs/2305.11853). I recommend you read that paper.\n",
    "\n",
    "For each table, we will define the structure using the same syntax as in a SQL create table command, and add the sample rows of the content.\n",
    "\n",
    "Finally, at the end of the prompt, we'll include some example queries with the SQL that the model should generate. This technique is called Few-Shot Samples, in which we provide the prompt with some examples to assist it in generating the correct SQL.\n"
   ]
  },
  {
   "cell_type": "code",
   "execution_count": 59,
   "id": "5334f942",
   "metadata": {
    "id": "5334f942"
   },
   "outputs": [],
   "source": [
    "context = [\n",
    "    {\n",
    "        'role': 'system',\n",
    "        'content': \"You are a helpful assistant that explains SQL schemas.\"\n",
    "    },\n",
    "    {\n",
    "        'role': 'user',\n",
    "        'content': '''\n",
    "CREATE TABLE customers (\n",
    "    customer_id SERIAL PRIMARY KEY,\n",
    "    name VARCHAR(100),\n",
    "    email VARCHAR(100)\n",
    ");\n",
    "\n",
    "CREATE TABLE products (\n",
    "    product_id SERIAL PRIMARY KEY,\n",
    "    name VARCHAR(100),\n",
    "    price DECIMAL(10, 2)\n",
    ");\n",
    "\n",
    "CREATE TABLE orders (\n",
    "    order_id SERIAL PRIMARY KEY,\n",
    "    customer_id INT REFERENCES customers(customer_id),\n",
    "    order_date DATE\n",
    ");\n",
    "'''\n",
    "    }\n",
    "]\n"
   ]
  },
  {
   "cell_type": "code",
   "execution_count": 60,
   "id": "330e69b0-3f5f-4bb2-8185-aedded2bb993",
   "metadata": {
    "id": "330e69b0-3f5f-4bb2-8185-aedded2bb993"
   },
   "outputs": [],
   "source": [
    "#FEW SHOT SAMPLES\n",
    "context.append( {'role':'system', 'content':\"\"\"\n",
    " -- Maintain the SQL order simple and efficient as you can, using valid SQL Lite, answer the following questions for the table provided above.\n",
    "WRITE IN YOUR CONTEXT QUERIES HERE\n",
    "\"\"\"\n",
    "})"
   ]
  },
  {
   "cell_type": "code",
   "execution_count": 61,
   "id": "b90f417a",
   "metadata": {
    "id": "b90f417a"
   },
   "outputs": [],
   "source": [
    "#Functio to call the model.\n",
    "def return_CCRMSQL(user_message, context):\n",
    "    client = OpenAI(\n",
    "    # This is the default and can be omitted\n",
    "    api_key=OPENAI_API_KEY,\n",
    ")\n",
    "\n",
    "    newcontext = context.copy()\n",
    "    newcontext.append({'role':'user', 'content':\"question: \" + user_message})\n",
    "\n",
    "    response = client.chat.completions.create(\n",
    "            model=\"gpt-3.5-turbo\",\n",
    "            messages=newcontext,\n",
    "            temperature=0,\n",
    "        )\n",
    "\n",
    "    return (response.choices[0].message.content)"
   ]
  },
  {
   "cell_type": "markdown",
   "id": "9e0a4c11-dfe1-46fe-ac2b-3ff825f9749c",
   "metadata": {
    "id": "9e0a4c11-dfe1-46fe-ac2b-3ff825f9749c"
   },
   "source": [
    "## NL2SQL Samples\n",
    "We're going to review some examples generated with the old prompt and others with the new prompt."
   ]
  },
  {
   "cell_type": "code",
   "execution_count": 62,
   "id": "59e8202c-ce34-487e-9037-c65a263423ed",
   "metadata": {
    "colab": {
     "base_uri": "https://localhost:8080/"
    },
    "id": "59e8202c-ce34-487e-9037-c65a263423ed",
    "outputId": "f7a97b9f-45d7-4f78-8979-a796c5bc42fb"
   },
   "outputs": [
    {
     "name": "stdout",
     "output_type": "stream",
     "text": [
      "```sql\n",
      "SELECT c.name\n",
      "FROM customers c\n",
      "JOIN orders o ON c.customer_id = o.customer_id\n",
      "JOIN order_details od ON o.order_id = od.order_id\n",
      "JOIN products p ON od.product_id = p.product_id\n",
      "WHERE p.name = 'Laptop' AND o.order_date >= '2024-01-01' AND o.order_date <= '2024-01-31';\n",
      "```\n"
     ]
    }
   ],
   "source": [
    "#new\n",
    "context_user = context.copy()\n",
    "print(return_CCRMSQL(\"\"\"Which customers ordered a product named 'Laptop' in January 2024?\"\"\", context_user))"
   ]
  },
  {
   "cell_type": "code",
   "execution_count": 63,
   "id": "9c4766b1-48a9-456e-bc6c-4b6f41909aa4",
   "metadata": {
    "colab": {
     "base_uri": "https://localhost:8080/"
    },
    "id": "9c4766b1-48a9-456e-bc6c-4b6f41909aa4",
    "outputId": "029844da-5f1f-4f65-9adb-4d9c1cafacea"
   },
   "outputs": [
    {
     "name": "stdout",
     "output_type": "stream",
     "text": [
      "This is your SQL:\n",
      "```sql\n",
      "SELECT e.name\n",
      "FROM employees e\n",
      "JOIN orders o ON e.ID_usr = o.ID_usr\n",
      "JOIN products p ON o.product_id = p.product_id\n",
      "WHERE p.product_name = 'Laptop' AND o.order_date BETWEEN '2024-01-01' AND '2024-01-31';\n",
      "```\n",
      "\n",
      "This SQL query retrieves the names of customers who ordered a product named 'Laptop' in January 2024 by joining the employees, orders, and products tables and filtering the results based on the product name and order date.\n"
     ]
    }
   ],
   "source": [
    "#old\n",
    "old_context_user = old_context.copy()\n",
    "print(return_CCRMSQL(\"Which customers ordered a product named 'Laptop' in January 2024?\", old_context_user))"
   ]
  },
  {
   "cell_type": "code",
   "execution_count": 64,
   "id": "38d8d370-0524-4a28-bd54-5e5cddb08e2c",
   "metadata": {
    "colab": {
     "base_uri": "https://localhost:8080/"
    },
    "id": "38d8d370-0524-4a28-bd54-5e5cddb08e2c",
    "outputId": "2934cdec-bea0-44db-b047-33e70dcf8ae8"
   },
   "outputs": [
    {
     "name": "stdout",
     "output_type": "stream",
     "text": [
      "```sql\n",
      "SELECT c.name\n",
      "FROM customers c\n",
      "JOIN orders o ON c.customer_id = o.customer_id\n",
      "JOIN order_details od ON o.order_id = od.order_id\n",
      "JOIN products p ON od.product_id = p.product_id\n",
      "WHERE p.name = 'Laptop' AND o.order_date >= '2024-01-01' AND o.order_date <= '2024-01-31';\n",
      "```\n"
     ]
    }
   ],
   "source": [
    "#new\n",
    "print(return_CCRMSQL(\"Which customers ordered a product named 'Laptop' in January 2024?\", context_user))"
   ]
  },
  {
   "cell_type": "code",
   "execution_count": 65,
   "id": "5aa318d4-dd9f-41db-8ff4-c1d87220f766",
   "metadata": {
    "colab": {
     "base_uri": "https://localhost:8080/"
    },
    "id": "5aa318d4-dd9f-41db-8ff4-c1d87220f766",
    "outputId": "605724a1-0d89-4ed9-d8ec-1aeeae6dc287"
   },
   "outputs": [
    {
     "name": "stdout",
     "output_type": "stream",
     "text": [
      "This is your SQL:\n",
      "```sql\n",
      "SELECT e.name\n",
      "FROM employees e\n",
      "JOIN orders o ON e.ID_usr = o.ID_usr\n",
      "JOIN products p ON o.product_id = p.product_id\n",
      "WHERE p.product_name = 'Laptop'\n",
      "AND o.order_date BETWEEN '2024-01-01' AND '2024-01-31';\n",
      "```\n",
      "\n",
      "This SQL query retrieves the names of customers who ordered a product named 'Laptop' in January 2024 by joining the employees, orders, and products tables and filtering the results based on the product name and order date.\n"
     ]
    }
   ],
   "source": [
    "#old\n",
    "print(return_CCRMSQL(\"Which customers ordered a product named 'Laptop' in January 2024?\", old_context_user))"
   ]
  },
  {
   "cell_type": "markdown",
   "id": "0f31968e-74ad-4ae2-9537-b3d550b1be47",
   "metadata": {
    "id": "0f31968e-74ad-4ae2-9537-b3d550b1be47"
   },
   "source": [
    "# Exercise\n",
    " - Complete the prompts similar to what we did in class. \n",
    "     - Try at least 3 versions\n",
    "     - Be creative\n",
    " - Write a one page report summarizing your findings.\n",
    "     - Were there variations that didn't work well? i.e., where GPT either hallucinated or wrong.\n",
    "     - What did you learn?"
   ]
  },
  {
   "cell_type": "code",
   "execution_count": 67,
   "id": "8af7d135",
   "metadata": {},
   "outputs": [
    {
     "name": "stdout",
     "output_type": "stream",
     "text": [
      "To find out how many customers ordered products in January, you can use the following SQL query:\n",
      "\n",
      "```sql\n",
      "SELECT COUNT(DISTINCT customer_id) AS total_customers\n",
      "FROM orders\n",
      "WHERE EXTRACT(MONTH FROM order_date) = 1;\n",
      "```\n",
      "\n",
      "This query will count the distinct customer IDs from the `orders` table where the `order_date` is in January (month number 1).\n"
     ]
    }
   ],
   "source": [
    "pqt1 = prompt_question_tables.format(\n",
    "    tables=text_tables, \n",
    "    question=\"How many customers ordered products in January?\"\n",
    ")\n",
    "print(return_CCRMSQL(pqt1, context_user))"
   ]
  },
  {
   "cell_type": "code",
   "execution_count": 68,
   "id": "1b5883f1",
   "metadata": {},
   "outputs": [
    {
     "name": "stdout",
     "output_type": "stream",
     "text": [
      "To calculate the total sales value for each product category, you would need to join the `products` and `orders` tables based on the product_id and then sum the total sales value for each product category. Here is the SQL query to achieve this:\n",
      "\n",
      "```sql\n",
      "SELECT p.name AS product_name, SUM(p.price) AS total_sales_value\n",
      "FROM products p\n",
      "JOIN order_details od ON p.product_id = od.product_id\n",
      "JOIN orders o ON od.order_id = o.order_id\n",
      "GROUP BY p.name;\n",
      "```\n",
      "\n",
      "In this query:\n",
      "- We select the product name from the `products` table and calculate the total sales value by summing the price of each product.\n",
      "- We join the `products` table with the `order_details` table on the product_id and then join the `order_details` table with the `orders` table on the order_id.\n",
      "- Finally, we group the results by product name to get the total sales value for each product category.\n"
     ]
    }
   ],
   "source": [
    "pqt2 = prompt_question_tables.format(\n",
    "    tables=text_tables,\n",
    "    question=\"What is the total sales value for each product category?\"\n",
    ")\n",
    "print(return_CCRMSQL(pqt2, context_user))"
   ]
  },
  {
   "cell_type": "code",
   "execution_count": null,
   "id": "504d0d01",
   "metadata": {},
   "outputs": [
    {
     "name": "stdout",
     "output_type": "stream",
     "text": [
      "```sql\n",
      "SELECT c.name\n",
      "FROM customers c\n",
      "LEFT JOIN orders o ON c.customer_id = o.customer_id\n",
      "WHERE o.customer_id IS NULL;\n",
      "```\n"
     ]
    }
   ],
   "source": [
    "#3 a table with possibility to hallucinate extra tables - test\n",
    "pqt3 = prompt_question_tables.format(\n",
    "    tables=text_tables,\n",
    "    question=\"Which customers have never placed an order?\"\n",
    ")\n",
    "print(return_CCRMSQL(pqt3, context_user))"
   ]
  },
  {
   "cell_type": "markdown",
   "id": "d6e70ac0",
   "metadata": {},
   "source": [
    "###REPORT\n",
    "\n",
    "In this case two first prompts were created correctly, where the third one was meant to test about hallucinating about non-existing tables.\n",
    "\n",
    "Findings:\n",
    "- prompt quality impacts on model accuracy = clear and structured prompts lead to focused queries\n",
    "- broad instructions might lead to hallucinations\n",
    "- when table names are limited and well-defined, the model performs better \n",
    "- without constrains, the model created a non-existing table 'order_details'\n",
    "- table definitions do not have to be very detailed, it is enough for the model to understand schema roles\n",
    "- reusable prompt templates seems to be more efficient"
   ]
  },
  {
   "cell_type": "markdown",
   "id": "a453ee7d",
   "metadata": {},
   "source": []
  }
 ],
 "metadata": {
  "colab": {
   "include_colab_link": true,
   "provenance": []
  },
  "kernelspec": {
   "display_name": ".venv",
   "language": "python",
   "name": "python3"
  },
  "language_info": {
   "codemirror_mode": {
    "name": "ipython",
    "version": 3
   },
   "file_extension": ".py",
   "mimetype": "text/x-python",
   "name": "python",
   "nbconvert_exporter": "python",
   "pygments_lexer": "ipython3",
   "version": "3.9.6"
  }
 },
 "nbformat": 4,
 "nbformat_minor": 5
}
